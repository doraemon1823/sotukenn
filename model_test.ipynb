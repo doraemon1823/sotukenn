{
 "cells": [
  {
   "cell_type": "code",
   "execution_count": 1,
   "metadata": {},
   "outputs": [],
   "source": [
    "from gensim.models.doc2vec import Doc2Vec\n",
    "from gensim.models.doc2vec import TaggedDocument\n"
   ]
  },
  {
   "cell_type": "code",
   "execution_count": 2,
   "metadata": {},
   "outputs": [],
   "source": [
    "m = Doc2Vec.load('NLP/model_doc2vec.model')"
   ]
  },
  {
   "cell_type": "code",
   "execution_count": 78,
   "metadata": {},
   "outputs": [],
   "source": [
    "doc_words1 = [\"ラスト\", \"展開\" ,\"早い\" ,\"他\" ,\"作品\", \"衝撃\", \"受ける\" ,\"裏の裏\" ,\"つく\", \"トリック\" ,\"毎度\" ,\"こと\", \"脱帽\", \"する\", \"読む\", \"やすい\" ,\"め\" ,\"ミステリー\"]\n",
    "doc_words2 = [ \"イニシエーション・ラブ\", \"同様\" ,\"最後\", \"数行\", \"どんでん返し\", \"いく\", \"時\", \"時\", \"様々\", \"シーン\", \"する\" ,\"れる\", \"伏線\" ,\"散りばめる\", \"られる\" ,\"いる\", \"こと\", \"気づく\"]\n",
    "doc_words3 = [\"ラスト\", \"展開\" ,\"早い\" ,\"他\" ,\"作品\", \"衝撃\", \"受ける\" ,\"裏の裏\" ,\"つく\",\"ミステリー\"]\n",
    "doc_words4 = [\"独特\", \"世界観\", \"日常\" ,\"離れる\",\"落ち着く\",\"時\",\"読む\",\"本\"]\n"
   ]
  },
  {
   "cell_type": "code",
   "execution_count": 34,
   "metadata": {},
   "outputs": [
    {
     "name": "stdout",
     "output_type": "stream",
     "text": [
      "1-2 sim\n",
      "0.5856644\n",
      "1-3 sim\n",
      "0.7325542\n",
      "1-4 sim\n",
      "0.61455095\n",
      "2-3 sim\n",
      "0.55774844\n"
     ]
    }
   ],
   "source": [
    "print(\"1-2 sim\")\n",
    "sim_value = m.docvecs.similarity_unseen_docs(m, doc_words1, doc_words2, alpha=1, min_alpha=0.0001, steps=5)\n",
    "print(sim_value)\n",
    "\n",
    "print(\"1-3 sim\")\n",
    "print(m.docvecs.similarity_unseen_docs(m, doc_words1, doc_words3, alpha=1, min_alpha=0.0001, steps=5))\n",
    "\n",
    "print(\"1-4 sim\")\n",
    "print(m.docvecs.similarity_unseen_docs(m, doc_words1, doc_words4, alpha=1, min_alpha=0.0001, steps=5))\n",
    "\n",
    "print(\"2-3 sim\")\n",
    "print(m.docvecs.similarity_unseen_docs(m, doc_words2, doc_words3, alpha=1, min_alpha=0.0001, steps=5))"
   ]
  },
  {
   "cell_type": "code",
   "execution_count": 79,
   "metadata": {},
   "outputs": [
    {
     "name": "stdout",
     "output_type": "stream",
     "text": [
      "1-2sim\n",
      "0.44771168\n",
      "1-3sim\n",
      "0.64467907\n",
      "1-4sim\n",
      "0.257086\n",
      "2-3sim\n",
      "0.49931052\n"
     ]
    }
   ],
   "source": [
    "print(\"1-2sim\")\n",
    "sim_value = m.docvecs.similarity_unseen_docs(m, doc_words1, doc_words2, alpha=1, min_alpha=0.0001, steps=5)\n",
    "print(sim_value)\n",
    "print(\"1-3sim\")\n",
    "print(m.docvecs.similarity_unseen_docs(m, doc_words1, doc_words3, alpha=1, min_alpha=0.0001, steps=5))\n",
    "print(\"1-4sim\")\n",
    "print(m.docvecs.similarity_unseen_docs(m, doc_words1, doc_words4, alpha=1, min_alpha=0.0001, steps=5))\n",
    "print(\"2-3sim\")\n",
    "print(m.docvecs.similarity_unseen_docs(m, doc_words2, doc_words3, alpha=1, min_alpha=0.0001, steps=5))"
   ]
  },
  {
   "cell_type": "code",
   "execution_count": 42,
   "metadata": {},
   "outputs": [],
   "source": [
    "newvec = m.infer_vector([\"みかん\"])"
   ]
  },
  {
   "cell_type": "code",
   "execution_count": 76,
   "metadata": {},
   "outputs": [],
   "source": [
    "doc_words1=[\"ウィキペディアは、ウィキメディア財団が運営しているインターネット百科事典である\"]\n",
    "doc_words2=[\"ウェブサイトには広告は一切掲載せず、資金的には個人や団体などからの寄付により運営している。\"]\n",
    "doc_words3=[\"インターネットのニュースでも、ウィキペディアが参考資料として紹介されることもある。\"]\n",
    "doc_words4=[\"また米国において、ネット上での組織的情報工作が行われウィキペディアもその対象となっていたことが報じられている。\"]"
   ]
  },
  {
   "cell_type": "code",
   "execution_count": null,
   "metadata": {},
   "outputs": [],
   "source": [
    "list=[]\n",
    "a=([3,6])\n",
    "list.append(a)"
   ]
  },
  {
   "cell_type": "code",
   "execution_count": null,
   "metadata": {},
   "outputs": [],
   "source": []
  }
 ],
 "metadata": {
  "kernelspec": {
   "display_name": "Python 3",
   "language": "python",
   "name": "python3"
  },
  "language_info": {
   "codemirror_mode": {
    "name": "ipython",
    "version": 3
   },
   "file_extension": ".py",
   "mimetype": "text/x-python",
   "name": "python",
   "nbconvert_exporter": "python",
   "pygments_lexer": "ipython3",
   "version": "3.7.3"
  }
 },
 "nbformat": 4,
 "nbformat_minor": 2
}
