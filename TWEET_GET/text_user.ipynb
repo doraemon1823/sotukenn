{
 "cells": [
  {
   "cell_type": "code",
   "execution_count": 2,
   "metadata": {},
   "outputs": [
    {
     "data": {
      "text/plain": [
       "'\\n@hokudai_kamen\\n@\\n@\\n@\\n@\\n@\\n@\\n'"
      ]
     },
     "execution_count": 2,
     "metadata": {},
     "output_type": "execute_result"
    }
   ],
   "source": [
    "\"\"\"\n",
    "@==\n",
    "hokudai_kamen\n",
    "boSYj5fpAmIFn3d\n",
    "JNHQdjlX8J8NSuM\n",
    "sabou_hou\n",
    "Y_K_photography\n",
    "shiifoncake\n",
    "Totti_D1062\n",
    "Erde_phys7\n",
    "no1_haskeller\n",
    "c2chem\n",
    "sandcat_lab\n",
    "\n",
    "\n",
    "\n",
    "\"\"\""
   ]
  },
  {
   "cell_type": "code",
   "execution_count": null,
   "metadata": {},
   "outputs": [],
   "source": []
  }
 ],
 "metadata": {
  "kernelspec": {
   "display_name": "Python 3",
   "language": "python",
   "name": "python3"
  },
  "language_info": {
   "codemirror_mode": {
    "name": "ipython",
    "version": 3
   },
   "file_extension": ".py",
   "mimetype": "text/x-python",
   "name": "python",
   "nbconvert_exporter": "python",
   "pygments_lexer": "ipython3",
   "version": "3.7.3"
  }
 },
 "nbformat": 4,
 "nbformat_minor": 2
}
