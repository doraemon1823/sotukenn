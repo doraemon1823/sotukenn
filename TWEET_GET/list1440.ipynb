{
 "cells": [
  {
   "cell_type": "code",
   "execution_count": null,
   "metadata": {},
   "outputs": [],
   "source": [
    "list_real=[]\n",
    "list_real=df[0]\n",
    "list_real=list_real[1440:2880]\n",
    "list_real=pd.DataFrame(list_real)\n",
    "list_real=list_real.reset_index()\n",
    "list_real=list_real.drop(\"index\",axis=1)\n",
    "da=list_real.to_csv(\"list_real.csv\")"
   ]
  }
 ],
 "metadata": {
  "kernelspec": {
   "display_name": "Python 3",
   "language": "python",
   "name": "python3"
  },
  "language_info": {
   "codemirror_mode": {
    "name": "ipython",
    "version": 3
   },
   "file_extension": ".py",
   "mimetype": "text/x-python",
   "name": "python",
   "nbconvert_exporter": "python",
   "pygments_lexer": "ipython3",
   "version": "3.7.3"
  }
 },
 "nbformat": 4,
 "nbformat_minor": 2
}
