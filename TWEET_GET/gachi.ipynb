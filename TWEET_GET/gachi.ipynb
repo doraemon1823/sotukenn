{
 "cells": [
  {
   "cell_type": "code",
   "execution_count": 56,
   "metadata": {},
   "outputs": [],
   "source": [
    "#これは明日20200106に走らせましょう！\n",
    "#明日２０２００１２５はここを治そう\n",
    "import numpy as np\n",
    "import sys,os\n",
    "import config2\n",
    "CONSUMER_KEY    = config2.CONSUMER_KEY\n",
    "CONSUMER_SECRET = config2.CONSUMER_SECRET\n",
    "ACCESS_TOKEN = config2.ACCESS_TOKEN\n",
    "ACCESS_TOKEN_SECRET = config2.ACCESS_TOKEN_SECRET\n",
    "import tweepy\n",
    "auth = tweepy.OAuthHandler(CONSUMER_KEY, CONSUMER_SECRET)\n",
    "auth.set_access_token(ACCESS_TOKEN, ACCESS_TOKEN_SECRET)\n",
    "api = tweepy.API(auth,wait_on_rate_limit = True)#,wait_on_rate_limit_notify= True #PLOT TIME\n",
    "#user = sys.argv[1]\n",
    "import pandas as pd"
   ]
  },
  {
   "cell_type": "code",
   "execution_count": 123,
   "metadata": {},
   "outputs": [
    {
     "data": {
      "text/plain": [
       "10    3251082536\n",
       "Name: 0, dtype: int64"
      ]
     },
     "execution_count": 123,
     "metadata": {},
     "output_type": "execute_result"
    }
   ],
   "source": [
    "df=pd.read_csv(\"df_mix2.csv\")\n",
    "df=df.drop(\"Unnamed: 0\",axis=1)[1:]\n",
    "df=df.reset_index()\n",
    "df=df.drop(\"index\",axis=1)\n",
    "df.columns = list(range(199))\n",
    "list_real=[]\n",
    "list_real=df[0]\n",
    "list_real=list_real[10:11]\n",
    "list_real"
   ]
  },
  {
   "cell_type": "code",
   "execution_count": 124,
   "metadata": {},
   "outputs": [
    {
     "data": {
      "text/html": [
       "<div>\n",
       "<style scoped>\n",
       "    .dataframe tbody tr th:only-of-type {\n",
       "        vertical-align: middle;\n",
       "    }\n",
       "\n",
       "    .dataframe tbody tr th {\n",
       "        vertical-align: top;\n",
       "    }\n",
       "\n",
       "    .dataframe thead th {\n",
       "        text-align: right;\n",
       "    }\n",
       "</style>\n",
       "<table border=\"1\" class=\"dataframe\">\n",
       "  <thead>\n",
       "    <tr style=\"text-align: right;\">\n",
       "      <th></th>\n",
       "      <th>0</th>\n",
       "      <th>1</th>\n",
       "      <th>2</th>\n",
       "      <th>3</th>\n",
       "      <th>4</th>\n",
       "      <th>5</th>\n",
       "      <th>6</th>\n",
       "      <th>7</th>\n",
       "      <th>8</th>\n",
       "      <th>9</th>\n",
       "      <th>...</th>\n",
       "      <th>189</th>\n",
       "      <th>190</th>\n",
       "      <th>191</th>\n",
       "      <th>192</th>\n",
       "      <th>193</th>\n",
       "      <th>194</th>\n",
       "      <th>195</th>\n",
       "      <th>196</th>\n",
       "      <th>197</th>\n",
       "      <th>198</th>\n",
       "    </tr>\n",
       "  </thead>\n",
       "  <tbody>\n",
       "    <tr>\n",
       "      <th>0</th>\n",
       "      <td>806345744491761664</td>\n",
       "      <td>1031554232376160256</td>\n",
       "      <td>711040002361167872</td>\n",
       "      <td>1007631223252893696</td>\n",
       "      <td>1425252822</td>\n",
       "      <td>1497996936</td>\n",
       "      <td>2467339838</td>\n",
       "      <td>1212504482</td>\n",
       "      <td>978988608177745920</td>\n",
       "      <td>206007143</td>\n",
       "      <td>...</td>\n",
       "      <td>82487821</td>\n",
       "      <td>2420101994</td>\n",
       "      <td>768007380348997632</td>\n",
       "      <td>1085443635980582912</td>\n",
       "      <td>1085442632191332352</td>\n",
       "      <td>902154674811191296</td>\n",
       "      <td>22192243</td>\n",
       "      <td>14989786</td>\n",
       "      <td>349691401</td>\n",
       "      <td>3192222876</td>\n",
       "    </tr>\n",
       "    <tr>\n",
       "      <th>1</th>\n",
       "      <td>1195139980860903424</td>\n",
       "      <td>3303072043</td>\n",
       "      <td>1100166076434866176</td>\n",
       "      <td>94485981</td>\n",
       "      <td>890078296536383488</td>\n",
       "      <td>1182622842615222272</td>\n",
       "      <td>1135843590050066432</td>\n",
       "      <td>1155119494651453440</td>\n",
       "      <td>1149062525729660928</td>\n",
       "      <td>1171732248132849664</td>\n",
       "      <td>...</td>\n",
       "      <td>112597722</td>\n",
       "      <td>700406067692306432</td>\n",
       "      <td>3314339450</td>\n",
       "      <td>1335903416</td>\n",
       "      <td>76038182</td>\n",
       "      <td>58452145</td>\n",
       "      <td>73076657</td>\n",
       "      <td>947483369784328192</td>\n",
       "      <td>980950247072350208</td>\n",
       "      <td>1869301273</td>\n",
       "    </tr>\n",
       "    <tr>\n",
       "      <th>2</th>\n",
       "      <td>1179556940726206464</td>\n",
       "      <td>723906028564144128</td>\n",
       "      <td>1154610271467343872</td>\n",
       "      <td>1198216659305213952</td>\n",
       "      <td>3096006038</td>\n",
       "      <td>972848635011411968</td>\n",
       "      <td>1434975787</td>\n",
       "      <td>1086455922241593344</td>\n",
       "      <td>1040137983603527680</td>\n",
       "      <td>1561327374</td>\n",
       "      <td>...</td>\n",
       "      <td>1087602385675907072</td>\n",
       "      <td>1108640257124130816</td>\n",
       "      <td>728955815462207488</td>\n",
       "      <td>3143013216</td>\n",
       "      <td>1642817190</td>\n",
       "      <td>53027334</td>\n",
       "      <td>1107559141482979328</td>\n",
       "      <td>912633237498773504</td>\n",
       "      <td>837556826086371328</td>\n",
       "      <td>778412159218831360</td>\n",
       "    </tr>\n",
       "    <tr>\n",
       "      <th>3</th>\n",
       "      <td>1204745479969366016</td>\n",
       "      <td>1186615314995273728</td>\n",
       "      <td>1202144208309501952</td>\n",
       "      <td>1194378745253105664</td>\n",
       "      <td>1023472068552052736</td>\n",
       "      <td>119608188</td>\n",
       "      <td>1147856709693534208</td>\n",
       "      <td>936999722</td>\n",
       "      <td>1185571042921570304</td>\n",
       "      <td>1148088224264249344</td>\n",
       "      <td>...</td>\n",
       "      <td>0</td>\n",
       "      <td>0</td>\n",
       "      <td>0</td>\n",
       "      <td>0</td>\n",
       "      <td>0</td>\n",
       "      <td>0</td>\n",
       "      <td>0</td>\n",
       "      <td>0</td>\n",
       "      <td>0</td>\n",
       "      <td>0</td>\n",
       "    </tr>\n",
       "    <tr>\n",
       "      <th>4</th>\n",
       "      <td>885806484369440768</td>\n",
       "      <td>1200733026512035840</td>\n",
       "      <td>1022036054390366208</td>\n",
       "      <td>846575913542213632</td>\n",
       "      <td>1067769172015308800</td>\n",
       "      <td>1073859420671533056</td>\n",
       "      <td>3259458049</td>\n",
       "      <td>850214200144044032</td>\n",
       "      <td>706640679246508032</td>\n",
       "      <td>1191472374136180736</td>\n",
       "      <td>...</td>\n",
       "      <td>851285327389925376</td>\n",
       "      <td>910704842875691008</td>\n",
       "      <td>346633601</td>\n",
       "      <td>74404226</td>\n",
       "      <td>743760942811357184</td>\n",
       "      <td>518066638</td>\n",
       "      <td>4717620475</td>\n",
       "      <td>518622430</td>\n",
       "      <td>870257878656892928</td>\n",
       "      <td>869765434664296448</td>\n",
       "    </tr>\n",
       "  </tbody>\n",
       "</table>\n",
       "<p>5 rows × 199 columns</p>\n",
       "</div>"
      ],
      "text/plain": [
       "                   0                    1                    2    \\\n",
       "0   806345744491761664  1031554232376160256   711040002361167872   \n",
       "1  1195139980860903424           3303072043  1100166076434866176   \n",
       "2  1179556940726206464   723906028564144128  1154610271467343872   \n",
       "3  1204745479969366016  1186615314995273728  1202144208309501952   \n",
       "4   885806484369440768  1200733026512035840  1022036054390366208   \n",
       "\n",
       "                   3                    4                    5    \\\n",
       "0  1007631223252893696           1425252822           1497996936   \n",
       "1             94485981   890078296536383488  1182622842615222272   \n",
       "2  1198216659305213952           3096006038   972848635011411968   \n",
       "3  1194378745253105664  1023472068552052736            119608188   \n",
       "4   846575913542213632  1067769172015308800  1073859420671533056   \n",
       "\n",
       "                   6                    7                    8    \\\n",
       "0           2467339838           1212504482   978988608177745920   \n",
       "1  1135843590050066432  1155119494651453440  1149062525729660928   \n",
       "2           1434975787  1086455922241593344  1040137983603527680   \n",
       "3  1147856709693534208            936999722  1185571042921570304   \n",
       "4           3259458049   850214200144044032   706640679246508032   \n",
       "\n",
       "                   9    ...                  189                  190  \\\n",
       "0            206007143  ...             82487821           2420101994   \n",
       "1  1171732248132849664  ...            112597722   700406067692306432   \n",
       "2           1561327374  ...  1087602385675907072  1108640257124130816   \n",
       "3  1148088224264249344  ...                    0                    0   \n",
       "4  1191472374136180736  ...   851285327389925376   910704842875691008   \n",
       "\n",
       "                  191                  192                  193  \\\n",
       "0  768007380348997632  1085443635980582912  1085442632191332352   \n",
       "1          3314339450           1335903416             76038182   \n",
       "2  728955815462207488           3143013216           1642817190   \n",
       "3                   0                    0                    0   \n",
       "4           346633601             74404226   743760942811357184   \n",
       "\n",
       "                  194                  195                 196  \\\n",
       "0  902154674811191296             22192243            14989786   \n",
       "1            58452145             73076657  947483369784328192   \n",
       "2            53027334  1107559141482979328  912633237498773504   \n",
       "3                   0                    0                   0   \n",
       "4           518066638           4717620475           518622430   \n",
       "\n",
       "                  197                 198  \n",
       "0           349691401          3192222876  \n",
       "1  980950247072350208          1869301273  \n",
       "2  837556826086371328  778412159218831360  \n",
       "3                   0                   0  \n",
       "4  870257878656892928  869765434664296448  \n",
       "\n",
       "[5 rows x 199 columns]"
      ]
     },
     "execution_count": 124,
     "metadata": {},
     "output_type": "execute_result"
    }
   ],
   "source": [
    "df.head()"
   ]
  },
  {
   "cell_type": "code",
   "execution_count": 125,
   "metadata": {},
   "outputs": [],
   "source": [
    "follower_list=[]\n",
    "def skip_func(list):\n",
    "    cnt=0\n",
    "    for i in list:\n",
    "        padd= [0] * 200\n",
    "        try :\n",
    "            #got=api.followers_ids(i,count=200)\n",
    "            got=api.friends_ids(i,count=200)\n",
    "            go0=api.get_user(i).description\n",
    "            go1=api.get_user(i).screen_name\n",
    "            go2=api.get_user(i).friends_count\n",
    "            go3=api.get_user(i).followers_count\n",
    "            go4=api.get_user(i).statuses_count\n",
    "            go5=api.get_user(i).favourites_count\n",
    "        except :\n",
    "            print('========NG=============',cnt)# pass (Real code == pass ,Practice code == print(NG))\n",
    "            follower_list.append(padd)\n",
    "        else :\n",
    "            print('==========OK==========',cnt)\n",
    "            #followerData[\"Follower_id\"] = str(a)\n",
    "            #followerDatas.append(followerData)\n",
    "            #followerDatas.append(a)\n",
    "            #got=got.\n",
    "            follower_list.append(got)\n",
    "            follower_list.insert(0,go0)\n",
    "            follower_list.insert(1,go1)\n",
    "            follower_list.insert(2,go2)\n",
    "            follower_list.insert(3,go3)\n",
    "            follower_list.insert(4,go4)\n",
    "            follower_list.insert(5,go5)\n",
    "            #follower_list=follower_list[0]\n",
    "        cnt+=1"
   ]
  },
  {
   "cell_type": "code",
   "execution_count": 126,
   "metadata": {},
   "outputs": [
    {
     "name": "stdout",
     "output_type": "stream",
     "text": [
      "==========OK========== 0\n"
     ]
    }
   ],
   "source": [
    "skip_func(list_real)\n",
    "#follower_list"
   ]
  },
  {
   "cell_type": "code",
   "execution_count": 79,
   "metadata": {},
   "outputs": [],
   "source": [
    "#〇〇大学とか〇〇高校とか〇〇社とかのワードがdiscripition に含まれるのから自動で収集したらいいのでは？"
   ]
  },
  {
   "cell_type": "code",
   "execution_count": 121,
   "metadata": {},
   "outputs": [],
   "source": [
    "pd.set_option(\"display.max_rows\", 250)\n",
    "df=pd.DataFrame(follower_list)\n",
    "df1=df.fillna(0)\n",
    "df0=pd.DataFrame(list_real)\n",
    "df0.columns=[\"ID\"]\n",
    "df2=pd.concat([df0, df1],axis=1)\n",
    "df2=df2.fillna(0)\n",
    "df2.to_csv(\"kana.csv\")"
   ]
  },
  {
   "cell_type": "code",
   "execution_count": 127,
   "metadata": {},
   "outputs": [
    {
     "ename": "ValueError",
     "evalue": "Length mismatch: Expected axis has 201 elements, new values have 207 elements",
     "output_type": "error",
     "traceback": [
      "\u001b[0;31m---------------------------------------------------------------------------\u001b[0m",
      "\u001b[0;31mValueError\u001b[0m                                Traceback (most recent call last)",
      "\u001b[0;32m<ipython-input-127-6fb9ff93d753>\u001b[0m in \u001b[0;36m<module>\u001b[0;34m\u001b[0m\n\u001b[1;32m      8\u001b[0m \u001b[0mo\u001b[0m\u001b[0;34m.\u001b[0m\u001b[0minsert\u001b[0m\u001b[0;34m(\u001b[0m\u001b[0;36m6\u001b[0m\u001b[0;34m,\u001b[0m\u001b[0;34m\"Favourites_count\"\u001b[0m\u001b[0;34m)\u001b[0m\u001b[0;34m\u001b[0m\u001b[0;34m\u001b[0m\u001b[0m\n\u001b[1;32m      9\u001b[0m \u001b[0;31m#お気に入り登録した数\u001b[0m\u001b[0;34m\u001b[0m\u001b[0;34m\u001b[0m\u001b[0;34m\u001b[0m\u001b[0m\n\u001b[0;32m---> 10\u001b[0;31m \u001b[0mdf2\u001b[0m\u001b[0;34m.\u001b[0m\u001b[0mcolumns\u001b[0m\u001b[0;34m=\u001b[0m\u001b[0mo\u001b[0m\u001b[0;34m\u001b[0m\u001b[0;34m\u001b[0m\u001b[0m\n\u001b[0m",
      "\u001b[0;32m~/anaconda3/lib/python3.7/site-packages/pandas/core/generic.py\u001b[0m in \u001b[0;36m__setattr__\u001b[0;34m(self, name, value)\u001b[0m\n\u001b[1;32m   5078\u001b[0m         \u001b[0;32mtry\u001b[0m\u001b[0;34m:\u001b[0m\u001b[0;34m\u001b[0m\u001b[0;34m\u001b[0m\u001b[0m\n\u001b[1;32m   5079\u001b[0m             \u001b[0mobject\u001b[0m\u001b[0;34m.\u001b[0m\u001b[0m__getattribute__\u001b[0m\u001b[0;34m(\u001b[0m\u001b[0mself\u001b[0m\u001b[0;34m,\u001b[0m \u001b[0mname\u001b[0m\u001b[0;34m)\u001b[0m\u001b[0;34m\u001b[0m\u001b[0;34m\u001b[0m\u001b[0m\n\u001b[0;32m-> 5080\u001b[0;31m             \u001b[0;32mreturn\u001b[0m \u001b[0mobject\u001b[0m\u001b[0;34m.\u001b[0m\u001b[0m__setattr__\u001b[0m\u001b[0;34m(\u001b[0m\u001b[0mself\u001b[0m\u001b[0;34m,\u001b[0m \u001b[0mname\u001b[0m\u001b[0;34m,\u001b[0m \u001b[0mvalue\u001b[0m\u001b[0;34m)\u001b[0m\u001b[0;34m\u001b[0m\u001b[0;34m\u001b[0m\u001b[0m\n\u001b[0m\u001b[1;32m   5081\u001b[0m         \u001b[0;32mexcept\u001b[0m \u001b[0mAttributeError\u001b[0m\u001b[0;34m:\u001b[0m\u001b[0;34m\u001b[0m\u001b[0;34m\u001b[0m\u001b[0m\n\u001b[1;32m   5082\u001b[0m             \u001b[0;32mpass\u001b[0m\u001b[0;34m\u001b[0m\u001b[0;34m\u001b[0m\u001b[0m\n",
      "\u001b[0;32mpandas/_libs/properties.pyx\u001b[0m in \u001b[0;36mpandas._libs.properties.AxisProperty.__set__\u001b[0;34m()\u001b[0m\n",
      "\u001b[0;32m~/anaconda3/lib/python3.7/site-packages/pandas/core/generic.py\u001b[0m in \u001b[0;36m_set_axis\u001b[0;34m(self, axis, labels)\u001b[0m\n\u001b[1;32m    636\u001b[0m \u001b[0;34m\u001b[0m\u001b[0m\n\u001b[1;32m    637\u001b[0m     \u001b[0;32mdef\u001b[0m \u001b[0m_set_axis\u001b[0m\u001b[0;34m(\u001b[0m\u001b[0mself\u001b[0m\u001b[0;34m,\u001b[0m \u001b[0maxis\u001b[0m\u001b[0;34m,\u001b[0m \u001b[0mlabels\u001b[0m\u001b[0;34m)\u001b[0m\u001b[0;34m:\u001b[0m\u001b[0;34m\u001b[0m\u001b[0;34m\u001b[0m\u001b[0m\n\u001b[0;32m--> 638\u001b[0;31m         \u001b[0mself\u001b[0m\u001b[0;34m.\u001b[0m\u001b[0m_data\u001b[0m\u001b[0;34m.\u001b[0m\u001b[0mset_axis\u001b[0m\u001b[0;34m(\u001b[0m\u001b[0maxis\u001b[0m\u001b[0;34m,\u001b[0m \u001b[0mlabels\u001b[0m\u001b[0;34m)\u001b[0m\u001b[0;34m\u001b[0m\u001b[0;34m\u001b[0m\u001b[0m\n\u001b[0m\u001b[1;32m    639\u001b[0m         \u001b[0mself\u001b[0m\u001b[0;34m.\u001b[0m\u001b[0m_clear_item_cache\u001b[0m\u001b[0;34m(\u001b[0m\u001b[0;34m)\u001b[0m\u001b[0;34m\u001b[0m\u001b[0;34m\u001b[0m\u001b[0m\n\u001b[1;32m    640\u001b[0m \u001b[0;34m\u001b[0m\u001b[0m\n",
      "\u001b[0;32m~/anaconda3/lib/python3.7/site-packages/pandas/core/internals/managers.py\u001b[0m in \u001b[0;36mset_axis\u001b[0;34m(self, axis, new_labels)\u001b[0m\n\u001b[1;32m    153\u001b[0m             raise ValueError(\n\u001b[1;32m    154\u001b[0m                 \u001b[0;34m'Length mismatch: Expected axis has {old} elements, new '\u001b[0m\u001b[0;34m\u001b[0m\u001b[0;34m\u001b[0m\u001b[0m\n\u001b[0;32m--> 155\u001b[0;31m                 'values have {new} elements'.format(old=old_len, new=new_len))\n\u001b[0m\u001b[1;32m    156\u001b[0m \u001b[0;34m\u001b[0m\u001b[0m\n\u001b[1;32m    157\u001b[0m         \u001b[0mself\u001b[0m\u001b[0;34m.\u001b[0m\u001b[0maxes\u001b[0m\u001b[0;34m[\u001b[0m\u001b[0maxis\u001b[0m\u001b[0;34m]\u001b[0m \u001b[0;34m=\u001b[0m \u001b[0mnew_labels\u001b[0m\u001b[0;34m\u001b[0m\u001b[0;34m\u001b[0m\u001b[0m\n",
      "\u001b[0;31mValueError\u001b[0m: Length mismatch: Expected axis has 201 elements, new values have 207 elements"
     ]
    }
   ],
   "source": [
    "o=list(range(200))\n",
    "o.insert(0,\"ID\")\n",
    "o.insert(1,\"Screen_name\")\n",
    "o.insert(2,\"Description\")\n",
    "o.insert(3,\"Friends_count\")\n",
    "o.insert(4,\"Follower_count\")\n",
    "o.insert(5,\"Tweet_count\")\n",
    "o.insert(6,\"Favourites_count\")\n",
    "#お気に入り登録した数\n",
    "df2.columns=o"
   ]
  },
  {
   "cell_type": "code",
   "execution_count": 122,
   "metadata": {},
   "outputs": [
    {
     "data": {
      "text/html": [
       "<div>\n",
       "<style scoped>\n",
       "    .dataframe tbody tr th:only-of-type {\n",
       "        vertical-align: middle;\n",
       "    }\n",
       "\n",
       "    .dataframe tbody tr th {\n",
       "        vertical-align: top;\n",
       "    }\n",
       "\n",
       "    .dataframe thead th {\n",
       "        text-align: right;\n",
       "    }\n",
       "</style>\n",
       "<table border=\"1\" class=\"dataframe\">\n",
       "  <thead>\n",
       "    <tr style=\"text-align: right;\">\n",
       "      <th></th>\n",
       "      <th>ID</th>\n",
       "      <th>0</th>\n",
       "      <th>1</th>\n",
       "      <th>2</th>\n",
       "      <th>3</th>\n",
       "      <th>4</th>\n",
       "      <th>5</th>\n",
       "      <th>6</th>\n",
       "      <th>7</th>\n",
       "      <th>8</th>\n",
       "      <th>...</th>\n",
       "      <th>190</th>\n",
       "      <th>191</th>\n",
       "      <th>192</th>\n",
       "      <th>193</th>\n",
       "      <th>194</th>\n",
       "      <th>195</th>\n",
       "      <th>196</th>\n",
       "      <th>197</th>\n",
       "      <th>198</th>\n",
       "      <th>199</th>\n",
       "    </tr>\n",
       "  </thead>\n",
       "  <tbody>\n",
       "    <tr>\n",
       "      <th>0</th>\n",
       "      <td>0.000000e+00</td>\n",
       "      <td>1.201734e+18</td>\n",
       "      <td>1.390743e+09</td>\n",
       "      <td>1.214379e+18</td>\n",
       "      <td>6.321109e+08</td>\n",
       "      <td>1.220573e+18</td>\n",
       "      <td>1.220575e+18</td>\n",
       "      <td>1.165423e+18</td>\n",
       "      <td>1.173185e+18</td>\n",
       "      <td>1.219894e+18</td>\n",
       "      <td>...</td>\n",
       "      <td>1.497926e+09</td>\n",
       "      <td>1.170879e+18</td>\n",
       "      <td>1.182318e+18</td>\n",
       "      <td>9.634048e+17</td>\n",
       "      <td>1.127002e+18</td>\n",
       "      <td>2.440198e+09</td>\n",
       "      <td>9.980546e+17</td>\n",
       "      <td>2.270159e+09</td>\n",
       "      <td>1.155763e+18</td>\n",
       "      <td>1.137654e+18</td>\n",
       "    </tr>\n",
       "    <tr>\n",
       "      <th>1</th>\n",
       "      <td>0.000000e+00</td>\n",
       "      <td>8.713940e+17</td>\n",
       "      <td>5.845174e+08</td>\n",
       "      <td>7.494525e+17</td>\n",
       "      <td>1.718258e+08</td>\n",
       "      <td>7.121855e+17</td>\n",
       "      <td>3.332004e+08</td>\n",
       "      <td>1.048044e+08</td>\n",
       "      <td>2.777762e+08</td>\n",
       "      <td>5.871431e+08</td>\n",
       "      <td>...</td>\n",
       "      <td>1.054372e+18</td>\n",
       "      <td>3.185178e+09</td>\n",
       "      <td>1.120275e+18</td>\n",
       "      <td>9.628647e+17</td>\n",
       "      <td>2.533714e+08</td>\n",
       "      <td>1.448799e+07</td>\n",
       "      <td>9.656273e+17</td>\n",
       "      <td>5.725505e+08</td>\n",
       "      <td>2.339986e+08</td>\n",
       "      <td>1.715287e+08</td>\n",
       "    </tr>\n",
       "    <tr>\n",
       "      <th>2</th>\n",
       "      <td>0.000000e+00</td>\n",
       "      <td>1.210601e+18</td>\n",
       "      <td>1.219009e+18</td>\n",
       "      <td>7.705271e+17</td>\n",
       "      <td>1.179723e+18</td>\n",
       "      <td>1.135109e+18</td>\n",
       "      <td>2.312664e+09</td>\n",
       "      <td>1.217287e+18</td>\n",
       "      <td>1.162334e+18</td>\n",
       "      <td>1.192924e+18</td>\n",
       "      <td>...</td>\n",
       "      <td>1.163595e+18</td>\n",
       "      <td>1.160528e+18</td>\n",
       "      <td>1.155746e+18</td>\n",
       "      <td>1.173777e+18</td>\n",
       "      <td>1.175029e+18</td>\n",
       "      <td>1.142291e+18</td>\n",
       "      <td>1.178158e+18</td>\n",
       "      <td>1.170309e+18</td>\n",
       "      <td>1.173892e+18</td>\n",
       "      <td>1.141101e+18</td>\n",
       "    </tr>\n",
       "    <tr>\n",
       "      <th>10</th>\n",
       "      <td>3.251083e+09</td>\n",
       "      <td>0.000000e+00</td>\n",
       "      <td>0.000000e+00</td>\n",
       "      <td>0.000000e+00</td>\n",
       "      <td>0.000000e+00</td>\n",
       "      <td>0.000000e+00</td>\n",
       "      <td>0.000000e+00</td>\n",
       "      <td>0.000000e+00</td>\n",
       "      <td>0.000000e+00</td>\n",
       "      <td>0.000000e+00</td>\n",
       "      <td>...</td>\n",
       "      <td>0.000000e+00</td>\n",
       "      <td>0.000000e+00</td>\n",
       "      <td>0.000000e+00</td>\n",
       "      <td>0.000000e+00</td>\n",
       "      <td>0.000000e+00</td>\n",
       "      <td>0.000000e+00</td>\n",
       "      <td>0.000000e+00</td>\n",
       "      <td>0.000000e+00</td>\n",
       "      <td>0.000000e+00</td>\n",
       "      <td>0.000000e+00</td>\n",
       "    </tr>\n",
       "    <tr>\n",
       "      <th>11</th>\n",
       "      <td>1.109701e+08</td>\n",
       "      <td>0.000000e+00</td>\n",
       "      <td>0.000000e+00</td>\n",
       "      <td>0.000000e+00</td>\n",
       "      <td>0.000000e+00</td>\n",
       "      <td>0.000000e+00</td>\n",
       "      <td>0.000000e+00</td>\n",
       "      <td>0.000000e+00</td>\n",
       "      <td>0.000000e+00</td>\n",
       "      <td>0.000000e+00</td>\n",
       "      <td>...</td>\n",
       "      <td>0.000000e+00</td>\n",
       "      <td>0.000000e+00</td>\n",
       "      <td>0.000000e+00</td>\n",
       "      <td>0.000000e+00</td>\n",
       "      <td>0.000000e+00</td>\n",
       "      <td>0.000000e+00</td>\n",
       "      <td>0.000000e+00</td>\n",
       "      <td>0.000000e+00</td>\n",
       "      <td>0.000000e+00</td>\n",
       "      <td>0.000000e+00</td>\n",
       "    </tr>\n",
       "  </tbody>\n",
       "</table>\n",
       "<p>5 rows × 201 columns</p>\n",
       "</div>"
      ],
      "text/plain": [
       "              ID             0             1             2             3  \\\n",
       "0   0.000000e+00  1.201734e+18  1.390743e+09  1.214379e+18  6.321109e+08   \n",
       "1   0.000000e+00  8.713940e+17  5.845174e+08  7.494525e+17  1.718258e+08   \n",
       "2   0.000000e+00  1.210601e+18  1.219009e+18  7.705271e+17  1.179723e+18   \n",
       "10  3.251083e+09  0.000000e+00  0.000000e+00  0.000000e+00  0.000000e+00   \n",
       "11  1.109701e+08  0.000000e+00  0.000000e+00  0.000000e+00  0.000000e+00   \n",
       "\n",
       "               4             5             6             7             8  ...  \\\n",
       "0   1.220573e+18  1.220575e+18  1.165423e+18  1.173185e+18  1.219894e+18  ...   \n",
       "1   7.121855e+17  3.332004e+08  1.048044e+08  2.777762e+08  5.871431e+08  ...   \n",
       "2   1.135109e+18  2.312664e+09  1.217287e+18  1.162334e+18  1.192924e+18  ...   \n",
       "10  0.000000e+00  0.000000e+00  0.000000e+00  0.000000e+00  0.000000e+00  ...   \n",
       "11  0.000000e+00  0.000000e+00  0.000000e+00  0.000000e+00  0.000000e+00  ...   \n",
       "\n",
       "             190           191           192           193           194  \\\n",
       "0   1.497926e+09  1.170879e+18  1.182318e+18  9.634048e+17  1.127002e+18   \n",
       "1   1.054372e+18  3.185178e+09  1.120275e+18  9.628647e+17  2.533714e+08   \n",
       "2   1.163595e+18  1.160528e+18  1.155746e+18  1.173777e+18  1.175029e+18   \n",
       "10  0.000000e+00  0.000000e+00  0.000000e+00  0.000000e+00  0.000000e+00   \n",
       "11  0.000000e+00  0.000000e+00  0.000000e+00  0.000000e+00  0.000000e+00   \n",
       "\n",
       "             195           196           197           198           199  \n",
       "0   2.440198e+09  9.980546e+17  2.270159e+09  1.155763e+18  1.137654e+18  \n",
       "1   1.448799e+07  9.656273e+17  5.725505e+08  2.339986e+08  1.715287e+08  \n",
       "2   1.142291e+18  1.178158e+18  1.170309e+18  1.173892e+18  1.141101e+18  \n",
       "10  0.000000e+00  0.000000e+00  0.000000e+00  0.000000e+00  0.000000e+00  \n",
       "11  0.000000e+00  0.000000e+00  0.000000e+00  0.000000e+00  0.000000e+00  \n",
       "\n",
       "[5 rows x 201 columns]"
      ]
     },
     "execution_count": 122,
     "metadata": {},
     "output_type": "execute_result"
    }
   ],
   "source": [
    "df2.head()"
   ]
  },
  {
   "cell_type": "code",
   "execution_count": 175,
   "metadata": {},
   "outputs": [
    {
     "data": {
      "text/plain": [
       "'生きてるだけで褒めてください。なんでも屋です。成人です。'"
      ]
     },
     "execution_count": 175,
     "metadata": {},
     "output_type": "execute_result"
    }
   ],
   "source": [
    "df2.loc[0][\"description\"]"
   ]
  },
  {
   "cell_type": "code",
   "execution_count": 176,
   "metadata": {},
   "outputs": [
    {
     "data": {
      "text/plain": [
       "1452"
      ]
     },
     "execution_count": 176,
     "metadata": {},
     "output_type": "execute_result"
    }
   ],
   "source": [
    "api.get_user(list_real[i]).friends_count"
   ]
  },
  {
   "cell_type": "code",
   "execution_count": 177,
   "metadata": {},
   "outputs": [
    {
     "data": {
      "text/plain": [
       "71"
      ]
     },
     "execution_count": 177,
     "metadata": {},
     "output_type": "execute_result"
    }
   ],
   "source": [
    "api.get_user(list_real[i]).followers_count"
   ]
  },
  {
   "cell_type": "code",
   "execution_count": 178,
   "metadata": {},
   "outputs": [
    {
     "data": {
      "text/plain": [
       "1"
      ]
     },
     "execution_count": 178,
     "metadata": {},
     "output_type": "execute_result"
    }
   ],
   "source": [
    "api.get_user(list_real[i]).listed_count"
   ]
  },
  {
   "cell_type": "code",
   "execution_count": 180,
   "metadata": {},
   "outputs": [
    {
     "data": {
      "text/plain": [
       "False"
      ]
     },
     "execution_count": 180,
     "metadata": {},
     "output_type": "execute_result"
    }
   ],
   "source": [
    "api.get_user(list_real[i]).protected\n",
    "#鍵アカかどうか"
   ]
  },
  {
   "cell_type": "code",
   "execution_count": 181,
   "metadata": {},
   "outputs": [
    {
     "data": {
      "text/plain": [
       "746"
      ]
     },
     "execution_count": 181,
     "metadata": {},
     "output_type": "execute_result"
    }
   ],
   "source": [
    "api.get_user(list_real[i]).statuses_count\n",
    "#ツイート数"
   ]
  },
  {
   "cell_type": "code",
   "execution_count": 26,
   "metadata": {},
   "outputs": [
    {
     "ename": "IndexError",
     "evalue": "list index out of range",
     "output_type": "error",
     "traceback": [
      "\u001b[0;31m---------------------------------------------------------------------------\u001b[0m",
      "\u001b[0;31mIndexError\u001b[0m                                Traceback (most recent call last)",
      "\u001b[0;32m<ipython-input-26-ca49d5503e0e>\u001b[0m in \u001b[0;36m<module>\u001b[0;34m\u001b[0m\n\u001b[1;32m      1\u001b[0m \u001b[0;31m#follower_list\u001b[0m\u001b[0;34m\u001b[0m\u001b[0;34m\u001b[0m\u001b[0;34m\u001b[0m\u001b[0m\n\u001b[0;32m----> 2\u001b[0;31m \u001b[0mlen\u001b[0m\u001b[0;34m(\u001b[0m\u001b[0mfollower_list\u001b[0m\u001b[0;34m[\u001b[0m\u001b[0;36m10\u001b[0m\u001b[0;34m]\u001b[0m\u001b[0;34m)\u001b[0m\u001b[0;34m\u001b[0m\u001b[0;34m\u001b[0m\u001b[0m\n\u001b[0m",
      "\u001b[0;31mIndexError\u001b[0m: list index out of range"
     ]
    }
   ],
   "source": [
    "#follower_list\n",
    "len(follower_list[9])"
   ]
  },
  {
   "cell_type": "code",
   "execution_count": 45,
   "metadata": {},
   "outputs": [],
   "source": [
    "follower_list[0]=follower_list[0][:200]"
   ]
  },
  {
   "cell_type": "code",
   "execution_count": 55,
   "metadata": {},
   "outputs": [
    {
     "data": {
      "text/html": [
       "<div>\n",
       "<style scoped>\n",
       "    .dataframe tbody tr th:only-of-type {\n",
       "        vertical-align: middle;\n",
       "    }\n",
       "\n",
       "    .dataframe tbody tr th {\n",
       "        vertical-align: top;\n",
       "    }\n",
       "\n",
       "    .dataframe thead th {\n",
       "        text-align: right;\n",
       "    }\n",
       "</style>\n",
       "<table border=\"1\" class=\"dataframe\">\n",
       "  <thead>\n",
       "    <tr style=\"text-align: right;\">\n",
       "      <th></th>\n",
       "      <th>0</th>\n",
       "      <th>1</th>\n",
       "      <th>2</th>\n",
       "      <th>3</th>\n",
       "      <th>4</th>\n",
       "      <th>5</th>\n",
       "      <th>6</th>\n",
       "      <th>7</th>\n",
       "      <th>8</th>\n",
       "      <th>9</th>\n",
       "      <th>...</th>\n",
       "      <th>190</th>\n",
       "      <th>191</th>\n",
       "      <th>192</th>\n",
       "      <th>193</th>\n",
       "      <th>194</th>\n",
       "      <th>195</th>\n",
       "      <th>196</th>\n",
       "      <th>197</th>\n",
       "      <th>198</th>\n",
       "      <th>199</th>\n",
       "    </tr>\n",
       "  </thead>\n",
       "  <tbody>\n",
       "    <tr>\n",
       "      <th>0</th>\n",
       "      <td>21175897</td>\n",
       "      <td>849853053004005376</td>\n",
       "      <td>116435471</td>\n",
       "      <td>1047124620447367168</td>\n",
       "      <td>926132791372267520</td>\n",
       "      <td>789785222283874304</td>\n",
       "      <td>1157140180618235906</td>\n",
       "      <td>740451576972742656</td>\n",
       "      <td>1122593518596157440</td>\n",
       "      <td>883988311152312320</td>\n",
       "      <td>...</td>\n",
       "      <td>931924231</td>\n",
       "      <td>2158391</td>\n",
       "      <td>1072784962233892864</td>\n",
       "      <td>869221316880027649</td>\n",
       "      <td>4299439932</td>\n",
       "      <td>893454717358964740</td>\n",
       "      <td>59401975</td>\n",
       "      <td>1062003601281703937</td>\n",
       "      <td>739731540364533760</td>\n",
       "      <td>844865315028713476</td>\n",
       "    </tr>\n",
       "  </tbody>\n",
       "</table>\n",
       "<p>1 rows × 200 columns</p>\n",
       "</div>"
      ],
      "text/plain": [
       "        0                   1          2                    3    \\\n",
       "0  21175897  849853053004005376  116435471  1047124620447367168   \n",
       "\n",
       "                  4                   5                    6    \\\n",
       "0  926132791372267520  789785222283874304  1157140180618235906   \n",
       "\n",
       "                  7                    8                   9    ...  \\\n",
       "0  740451576972742656  1122593518596157440  883988311152312320  ...   \n",
       "\n",
       "         190      191                  192                 193         194  \\\n",
       "0  931924231  2158391  1072784962233892864  869221316880027649  4299439932   \n",
       "\n",
       "                  195       196                  197                 198  \\\n",
       "0  893454717358964740  59401975  1062003601281703937  739731540364533760   \n",
       "\n",
       "                  199  \n",
       "0  844865315028713476  \n",
       "\n",
       "[1 rows x 200 columns]"
      ]
     },
     "execution_count": 55,
     "metadata": {},
     "output_type": "execute_result"
    }
   ],
   "source": [
    "pd.DataFrame(follower_list)"
   ]
  },
  {
   "cell_type": "code",
   "execution_count": 93,
   "metadata": {},
   "outputs": [],
   "source": [
    "p=list(range(10))"
   ]
  },
  {
   "cell_type": "code",
   "execution_count": 88,
   "metadata": {},
   "outputs": [],
   "source": [
    "p1=p"
   ]
  },
  {
   "cell_type": "code",
   "execution_count": 95,
   "metadata": {},
   "outputs": [],
   "source": [
    "p1.append(p)"
   ]
  },
  {
   "cell_type": "code",
   "execution_count": 96,
   "metadata": {},
   "outputs": [],
   "source": [
    "p1.insert(0,p)"
   ]
  },
  {
   "cell_type": "code",
   "execution_count": 98,
   "metadata": {},
   "outputs": [],
   "source": [
    "p.append(p)"
   ]
  },
  {
   "cell_type": "code",
   "execution_count": 101,
   "metadata": {},
   "outputs": [],
   "source": [
    "p.insert(1,p)"
   ]
  },
  {
   "cell_type": "code",
   "execution_count": 102,
   "metadata": {},
   "outputs": [
    {
     "data": {
      "text/plain": [
       "[0, [...], 1, 2, 3, 4, 5, 6, 7, 8, 9, [...]]"
      ]
     },
     "execution_count": 102,
     "metadata": {},
     "output_type": "execute_result"
    }
   ],
   "source": [
    "p"
   ]
  },
  {
   "cell_type": "code",
   "execution_count": null,
   "metadata": {},
   "outputs": [],
   "source": []
  }
 ],
 "metadata": {
  "kernelspec": {
   "display_name": "Python 3",
   "language": "python",
   "name": "python3"
  },
  "language_info": {
   "codemirror_mode": {
    "name": "ipython",
    "version": 3
   },
   "file_extension": ".py",
   "mimetype": "text/x-python",
   "name": "python",
   "nbconvert_exporter": "python",
   "pygments_lexer": "ipython3",
   "version": "3.7.3"
  }
 },
 "nbformat": 4,
 "nbformat_minor": 2
}
